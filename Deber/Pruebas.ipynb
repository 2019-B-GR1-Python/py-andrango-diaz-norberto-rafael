{
 "cells": [
  {
   "cell_type": "code",
   "execution_count": 27,
   "metadata": {},
   "outputs": [
    {
     "name": "stdout",
     "output_type": "stream",
     "text": [
      "<class 'list'>\n",
      "{'_Persona__id_persona': '01', '_Persona__id_ciudad': '02', '_Persona__nombre_persona': 'Rafael', '_Persona__edad_persona': 23, '__class_name__': 'Persona'}\n"
     ]
    },
    {
     "data": {
      "text/plain": [
       "0"
      ]
     },
     "execution_count": 27,
     "metadata": {},
     "output_type": "execute_result"
    }
   ],
   "source": [
    "import json\n",
    "\n",
    "s = '[{\"_Persona__id_persona\": \"01\", \"_Persona__id_ciudad\": \"02\", \"_Persona__nombre_persona\": \"Rafael\", \"_Persona__edad_persona\": 23, \"__class_name__\": \"Persona\"}]'\n",
    "jdata = json.loads(s)\n",
    "print(type(jdata))\n",
    "print('\\n'.join(map(str, jdata)))\n",
    "#jdata[0]['_Persona__id_persona'].index(\"01\")\n",
    "indice = [data['_Persona__id_persona'] for data in jdata].index(\"01\")\n",
    "indice"
   ]
  },
  {
   "cell_type": "code",
   "execution_count": null,
   "metadata": {},
   "outputs": [],
   "source": []
  },
  {
   "cell_type": "code",
   "execution_count": null,
   "metadata": {},
   "outputs": [],
   "source": []
  },
  {
   "cell_type": "code",
   "execution_count": null,
   "metadata": {},
   "outputs": [],
   "source": []
  }
 ],
 "metadata": {
  "kernelspec": {
   "display_name": "Python 3",
   "language": "python",
   "name": "python3"
  },
  "language_info": {
   "codemirror_mode": {
    "name": "ipython",
    "version": 3
   },
   "file_extension": ".py",
   "mimetype": "text/x-python",
   "name": "python",
   "nbconvert_exporter": "python",
   "pygments_lexer": "ipython3",
   "version": "3.7.3"
  }
 },
 "nbformat": 4,
 "nbformat_minor": 2
}
