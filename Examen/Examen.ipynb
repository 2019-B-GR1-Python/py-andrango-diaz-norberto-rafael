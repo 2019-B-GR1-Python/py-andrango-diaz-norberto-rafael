{
 "cells": [
  {
   "cell_type": "code",
   "execution_count": 1,
   "metadata": {},
   "outputs": [],
   "source": [
    "import numpy as np"
   ]
  },
  {
   "cell_type": "code",
   "execution_count": 5,
   "metadata": {},
   "outputs": [
    {
     "data": {
      "text/plain": [
       "array([0., 0., 0., 0., 0., 0., 0., 0., 0., 0.])"
      ]
     },
     "execution_count": 5,
     "metadata": {},
     "output_type": "execute_result"
    }
   ],
   "source": [
    "#Crear un vector de ceros de tamaño 10\n",
    "arreglo = np.zeros([10])\n",
    "arreglo"
   ]
  },
  {
   "cell_type": "code",
   "execution_count": 6,
   "metadata": {},
   "outputs": [
    {
     "data": {
      "text/plain": [
       "array([0., 0., 0., 0., 0., 1., 0., 0., 0., 0.])"
      ]
     },
     "execution_count": 6,
     "metadata": {},
     "output_type": "execute_result"
    }
   ],
   "source": [
    "#Crear un vector de ceros de tamaño 10 y el de la posicion 5 sea igual a 1\n",
    "arreglo = np.zeros([10])\n",
    "arreglo[5]=1\n",
    "arreglo"
   ]
  },
  {
   "cell_type": "code",
   "execution_count": 12,
   "metadata": {},
   "outputs": [
    {
     "data": {
      "text/plain": [
       "array([49, 48, 47, 46, 45, 44, 43, 42, 41, 40, 39, 38, 37, 36, 35, 34, 33,\n",
       "       32, 31, 30, 29, 28, 27, 26, 25, 24, 23, 22, 21, 20, 19, 18, 17, 16,\n",
       "       15, 14, 13, 12, 11, 10,  9,  8,  7,  6,  5,  4,  3,  2,  1,  0])"
      ]
     },
     "execution_count": 12,
     "metadata": {},
     "output_type": "execute_result"
    }
   ],
   "source": [
    "#Cambiar el orden de un vector de 50 elementos, el de la posicion 1 es el de la 50 etc\n",
    "arreglo = np.arange(50)\n",
    "arreglo = arreglo3[::-1]\n",
    "arreglo"
   ]
  },
  {
   "cell_type": "code",
   "execution_count": 21,
   "metadata": {},
   "outputs": [
    {
     "data": {
      "text/plain": [
       "array([[0, 1, 2],\n",
       "       [3, 4, 5],\n",
       "       [6, 7, 8]])"
      ]
     },
     "execution_count": 21,
     "metadata": {},
     "output_type": "execute_result"
    }
   ],
   "source": [
    "#Crear una matriz de 3 x 3 con valores del cero al 8\n",
    "arreglo = np.arange(9).reshape(3,3)\n",
    "arreglo"
   ]
  },
  {
   "cell_type": "code",
   "execution_count": 26,
   "metadata": {},
   "outputs": [
    {
     "data": {
      "text/plain": [
       "(array([2, 3, 5], dtype=int64),)"
      ]
     },
     "execution_count": 26,
     "metadata": {},
     "output_type": "execute_result"
    }
   ],
   "source": [
    "#Encontrar los indices que no sean cero en un arreglo\n",
    "arreglo = np.array([1,2,0,0,4,0])\n",
    "np.where(arreglo == 0)\n"
   ]
  },
  {
   "cell_type": "code",
   "execution_count": 30,
   "metadata": {},
   "outputs": [
    {
     "data": {
      "text/plain": [
       "array([[1., 0., 0.],\n",
       "       [0., 1., 0.],\n",
       "       [0., 0., 1.]])"
      ]
     },
     "execution_count": 30,
     "metadata": {},
     "output_type": "execute_result"
    }
   ],
   "source": [
    "#Crear una matriz de identidad 3 x 3\n",
    "\n",
    "arreglo = np.eye(3)\n",
    "arreglo"
   ]
  },
  {
   "cell_type": "code",
   "execution_count": 34,
   "metadata": {},
   "outputs": [
    {
     "data": {
      "text/plain": [
       "array([[[0.54954285, 0.92193683, 0.08844276],\n",
       "        [0.04223631, 0.10998593, 0.74871665],\n",
       "        [0.22262637, 0.81455299, 0.60676806]],\n",
       "\n",
       "       [[0.17880458, 0.36813759, 0.82871072],\n",
       "        [0.63301083, 0.69861985, 0.03451275],\n",
       "        [0.22632655, 0.03530988, 0.53839062]],\n",
       "\n",
       "       [[0.9025403 , 0.9731075 , 0.81756714],\n",
       "        [0.91577432, 0.00332215, 0.73106031],\n",
       "        [0.54142652, 0.09445961, 0.58132423]]])"
      ]
     },
     "execution_count": 34,
     "metadata": {},
     "output_type": "execute_result"
    }
   ],
   "source": [
    "#Crear una matriz 3 x 3 x 3 con valores randomicos\n",
    "arreglo = np.random.rand(3,3,3)\n",
    "arreglo"
   ]
  },
  {
   "cell_type": "code",
   "execution_count": 50,
   "metadata": {},
   "outputs": [
    {
     "name": "stdout",
     "output_type": "stream",
     "text": [
      "1\n",
      "99\n"
     ]
    },
    {
     "data": {
      "text/plain": [
       "array([[30, 36, 60,  3, 50, 18, 69, 82, 69, 47],\n",
       "       [68, 90, 37, 89, 26, 82, 67, 64, 18, 41],\n",
       "       [10, 79, 22, 82, 60, 68, 99, 25, 96, 72],\n",
       "       [35, 44, 21, 42, 92, 48, 60, 43, 11,  6],\n",
       "       [ 2,  2, 68, 67, 14, 62, 76, 46, 51,  1],\n",
       "       [90, 33, 33, 38, 11, 45, 74, 84, 77, 87],\n",
       "       [32, 27, 43, 35, 47, 60, 72, 28, 57, 17],\n",
       "       [11, 27, 28, 93, 82, 14, 82, 87, 25, 21],\n",
       "       [70, 70, 66, 14, 36, 41, 13, 93, 20, 93],\n",
       "       [90, 32, 45, 94, 81, 19, 91, 53, 25, 73]])"
      ]
     },
     "execution_count": 50,
     "metadata": {},
     "output_type": "execute_result"
    }
   ],
   "source": [
    "#Crear una matriz 10 x 10 y encontrar el mayor y el menor\n",
    "arreglo = np.random.randint(0,100,(10,10))\n",
    "menor = arreglo.min()\n",
    "mayor = arreglo.max()\n",
    "print(menor)\n",
    "print(mayor)\n",
    "arreglo\n"
   ]
  },
  {
   "cell_type": "code",
   "execution_count": null,
   "metadata": {},
   "outputs": [],
   "source": [
    "#Sacar los colores RGB unicos en una imagen\n",
    "from scipy import ndimage\n",
    "from scipy import misc\n",
    "import matplotlib.pyplot as plt\n",
    "mpache = misc.face()\n",
    "plt.imshow(mpache)\n"
   ]
  },
  {
   "cell_type": "code",
   "execution_count": 54,
   "metadata": {},
   "outputs": [
    {
     "name": "stdout",
     "output_type": "stream",
     "text": [
      "0     a\n",
      "1     b\n",
      "2     c\n",
      "3     e\n",
      "4     d\n",
      "5     f\n",
      "6     g\n",
      "7     h\n",
      "8     i\n",
      "9     j\n",
      "10    k\n",
      "11    l\n",
      "12    m\n",
      "13    n\n",
      "14    o\n",
      "15    p\n",
      "16    q\n",
      "17    r\n",
      "18    s\n",
      "19    t\n",
      "20    u\n",
      "21    v\n",
      "22    w\n",
      "23    x\n",
      "24    y\n",
      "25    z\n",
      "dtype: object\n",
      "0      0\n",
      "1      1\n",
      "2      2\n",
      "3      3\n",
      "4      4\n",
      "5      5\n",
      "6      6\n",
      "7      7\n",
      "8      8\n",
      "9      9\n",
      "10    10\n",
      "11    11\n",
      "12    12\n",
      "13    13\n",
      "14    14\n",
      "15    15\n",
      "16    16\n",
      "17    17\n",
      "18    18\n",
      "19    19\n",
      "20    20\n",
      "21    21\n",
      "22    22\n",
      "23    23\n",
      "24    24\n",
      "25    25\n",
      "dtype: int32\n",
      "a     0\n",
      "b     1\n",
      "c     2\n",
      "e     3\n",
      "d     4\n",
      "f     5\n",
      "g     6\n",
      "h     7\n",
      "i     8\n",
      "j     9\n",
      "k    10\n",
      "l    11\n",
      "m    12\n",
      "n    13\n",
      "o    14\n",
      "p    15\n",
      "q    16\n",
      "r    17\n",
      "s    18\n",
      "t    19\n",
      "u    20\n",
      "v    21\n",
      "w    22\n",
      "x    23\n",
      "y    24\n",
      "z    25\n",
      "dtype: int64\n"
     ]
    }
   ],
   "source": [
    "#¿Como crear una serie de una lista, diccionario o arreglo?\n",
    "import pandas as pd\n",
    "mylist = list('abcedfghijklmnopqrstuvwxyz')\n",
    "myarr = np.arange(26)\n",
    "mydict = dict(zip(mylist, myarr))\n",
    "serie_lista=pd.Series(mylist)\n",
    "serie_arreglo=pd.Series(myarr)\n",
    "serie_dict=pd.Series(mydict)\n",
    "\n",
    "print(serie_lista)\n",
    "print(serie_arreglo)\n",
    "print(serie_dict)\n",
    "\n"
   ]
  },
  {
   "cell_type": "code",
   "execution_count": 60,
   "metadata": {},
   "outputs": [],
   "source": [
    "#Como convertir el indice de una serie en una columna de un DataFrame?\n",
    "mylist = list('abcedfghijklmnopqrstuvwxyz')\n",
    "myarr = np.arange(26)\n",
    "mydict = dict(zip(mylist, myarr))\n",
    "ser = pd.Series(mydict) \n",
    "# Transformar la serie en dataframe y hacer una columna indice\n",
    "df1 = pd.DataFrame(myarr)\n"
   ]
  },
  {
   "cell_type": "code",
   "execution_count": 120,
   "metadata": {},
   "outputs": [
    {
     "data": {
      "text/plain": [
       "0    False\n",
       "1    False\n",
       "2    False\n",
       "3     True\n",
       "4     True\n",
       "dtype: bool"
      ]
     },
     "execution_count": 120,
     "metadata": {},
     "output_type": "execute_result"
    }
   ],
   "source": [
    "#¿Como obtener los items que esten en una serie A y no en una serie B?\n",
    "ser1 = pd.Series([1, 2, 3, 4, 5])\n",
    "ser2 = pd.Series([4, 5, 6, 7, 8])\n",
    "\n",
    "res = ser1.isin(pd.to_numeric(ser2))\n",
    "res"
   ]
  },
  {
   "cell_type": "code",
   "execution_count": 84,
   "metadata": {},
   "outputs": [
    {
     "data": {
      "text/plain": [
       "0    1\n",
       "1    2\n",
       "2    3\n",
       "3    4\n",
       "4    5\n",
       "0    4\n",
       "1    5\n",
       "2    6\n",
       "3    7\n",
       "4    8\n",
       "dtype: int64"
      ]
     },
     "execution_count": 84,
     "metadata": {},
     "output_type": "execute_result"
    }
   ],
   "source": [
    "#¿Como obtener los items que no son comunes en una serie A y serie B?\n",
    "ser1 = pd.Series([1, 2, 3, 4, 5])\n",
    "ser2 = pd.Series([4, 5, 6, 7, 8])\n",
    "serconcat = pd.concat([ser1,ser2] )\n",
    "serconcat"
   ]
  },
  {
   "cell_type": "code",
   "execution_count": 96,
   "metadata": {},
   "outputs": [
    {
     "data": {
      "text/plain": [
       "c    6\n",
       "h    6\n",
       "d    5\n",
       "b    4\n",
       "a    3\n",
       "e    3\n",
       "f    2\n",
       "g    1\n",
       "dtype: int64"
      ]
     },
     "execution_count": 96,
     "metadata": {},
     "output_type": "execute_result"
    }
   ],
   "source": [
    "#Como obtener el numero de veces que se repite un valor en una serie\n",
    "ser = pd.Series(np.take(list('abcdefgh'), np.random.randint(8, size=30)))\n",
    "ser.value_counts()\n",
    "\n"
   ]
  },
  {
   "cell_type": "code",
   "execution_count": 97,
   "metadata": {},
   "outputs": [],
   "source": [
    "#¿Como mantener los 2 valores mas repetidos de una serie, y a los demas valores cambiarles por 0 ?\n",
    "np.random.RandomState(100)\n",
    "ser = pd.Series(np.random.randint(1, 5, [12]))\n"
   ]
  },
  {
   "cell_type": "code",
   "execution_count": null,
   "metadata": {},
   "outputs": [],
   "source": []
  },
  {
   "cell_type": "code",
   "execution_count": null,
   "metadata": {},
   "outputs": [],
   "source": []
  },
  {
   "cell_type": "code",
   "execution_count": null,
   "metadata": {},
   "outputs": [],
   "source": []
  },
  {
   "cell_type": "code",
   "execution_count": null,
   "metadata": {},
   "outputs": [],
   "source": []
  },
  {
   "cell_type": "code",
   "execution_count": null,
   "metadata": {},
   "outputs": [],
   "source": []
  },
  {
   "cell_type": "code",
   "execution_count": null,
   "metadata": {},
   "outputs": [],
   "source": []
  }
 ],
 "metadata": {
  "kernelspec": {
   "display_name": "Python 3",
   "language": "python",
   "name": "python3"
  },
  "language_info": {
   "codemirror_mode": {
    "name": "ipython",
    "version": 3
   },
   "file_extension": ".py",
   "mimetype": "text/x-python",
   "name": "python",
   "nbconvert_exporter": "python",
   "pygments_lexer": "ipython3",
   "version": "3.7.3"
  }
 },
 "nbformat": 4,
 "nbformat_minor": 2
}
