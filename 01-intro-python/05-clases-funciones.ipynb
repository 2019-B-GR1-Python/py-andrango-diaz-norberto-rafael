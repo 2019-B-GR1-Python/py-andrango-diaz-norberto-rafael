{
 "cells": [
  {
   "cell_type": "code",
   "execution_count": 1,
   "metadata": {},
   "outputs": [
    {
     "data": {
      "text/plain": [
       "4"
      ]
     },
     "execution_count": 1,
     "metadata": {},
     "output_type": "execute_result"
    }
   ],
   "source": [
    "def elevar_Al_cuadrado(numero):\n",
    "    return numero*numero\n",
    "elevar_Al_cuadrado(2)"
   ]
  },
  {
   "cell_type": "code",
   "execution_count": 2,
   "metadata": {},
   "outputs": [],
   "source": [
    "elevar_al_cuadrado_lambda = lambda numero: numero*numero"
   ]
  },
  {
   "cell_type": "code",
   "execution_count": 3,
   "metadata": {},
   "outputs": [
    {
     "data": {
      "text/plain": [
       "4"
      ]
     },
     "execution_count": 3,
     "metadata": {},
     "output_type": "execute_result"
    }
   ],
   "source": [
    "elevar_al_cuadrado_lambda(2)"
   ]
  },
  {
   "cell_type": "code",
   "execution_count": 9,
   "metadata": {},
   "outputs": [],
   "source": [
    "imprimir_mensaje = lambda mensaje: print(f\"Mensaje: {mensaje}\")"
   ]
  },
  {
   "cell_type": "code",
   "execution_count": 10,
   "metadata": {},
   "outputs": [
    {
     "name": "stdout",
     "output_type": "stream",
     "text": [
      "Mensaje: Hola\n"
     ]
    }
   ],
   "source": [
    "imprimir_mensaje(\"Hola\")"
   ]
  },
  {
   "cell_type": "code",
   "execution_count": 11,
   "metadata": {},
   "outputs": [],
   "source": [
    "sumar_dos_numeros = lambda a,b : a+b"
   ]
  },
  {
   "cell_type": "code",
   "execution_count": 12,
   "metadata": {},
   "outputs": [
    {
     "data": {
      "text/plain": [
       "5"
      ]
     },
     "execution_count": 12,
     "metadata": {},
     "output_type": "execute_result"
    }
   ],
   "source": [
    "sumar_dos_numeros(2,3)"
   ]
  },
  {
   "cell_type": "code",
   "execution_count": 15,
   "metadata": {},
   "outputs": [],
   "source": [
    "class Nada:\n",
    "    pass"
   ]
  },
  {
   "cell_type": "code",
   "execution_count": 17,
   "metadata": {},
   "outputs": [
    {
     "name": "stdout",
     "output_type": "stream",
     "text": [
      "<__main__.Nada object at 0x000001D6DBD72F28>\n",
      "<class '__main__.Nada'>\n"
     ]
    }
   ],
   "source": [
    "una_nada = Nada()\n",
    "print(una_nada)\n",
    "print(type(una_nada))"
   ]
  },
  {
   "cell_type": "code",
   "execution_count": 53,
   "metadata": {},
   "outputs": [
    {
     "name": "stdout",
     "output_type": "stream",
     "text": [
      "Empezó el constructor\n"
     ]
    },
    {
     "ename": "TypeError",
     "evalue": "__calcular_impuesto() takes 0 positional arguments but 1 was given",
     "output_type": "error",
     "traceback": [
      "\u001b[1;31m---------------------------------------------------------------------------\u001b[0m",
      "\u001b[1;31mTypeError\u001b[0m                                 Traceback (most recent call last)",
      "\u001b[1;32m<ipython-input-53-c536f7b45aa1>\u001b[0m in \u001b[0;36m<module>\u001b[1;34m\u001b[0m\n\u001b[0;32m     20\u001b[0m \u001b[1;31m#print(nuevo_auto.color)\u001b[0m\u001b[1;33m\u001b[0m\u001b[1;33m\u001b[0m\u001b[1;33m\u001b[0m\u001b[0m\n\u001b[0;32m     21\u001b[0m \u001b[1;31m#print(nuevo_auto._Auto__numero_chasis)\u001b[0m\u001b[1;33m\u001b[0m\u001b[1;33m\u001b[0m\u001b[1;33m\u001b[0m\u001b[0m\n\u001b[1;32m---> 22\u001b[1;33m \u001b[0mprint\u001b[0m\u001b[1;33m(\u001b[0m\u001b[0mnuevo_auto\u001b[0m\u001b[1;33m.\u001b[0m\u001b[0mnumero_chasis_impuesto\u001b[0m\u001b[1;33m(\u001b[0m\u001b[1;33m)\u001b[0m\u001b[1;33m)\u001b[0m\u001b[1;33m\u001b[0m\u001b[1;33m\u001b[0m\u001b[0m\n\u001b[0m",
      "\u001b[1;32m<ipython-input-53-c536f7b45aa1>\u001b[0m in \u001b[0;36mnumero_chasis_impuesto\u001b[1;34m(self)\u001b[0m\n\u001b[0;32m     12\u001b[0m \u001b[1;33m\u001b[0m\u001b[0m\n\u001b[0;32m     13\u001b[0m     \u001b[1;32mdef\u001b[0m \u001b[0mnumero_chasis_impuesto\u001b[0m\u001b[1;33m(\u001b[0m\u001b[0mself\u001b[0m\u001b[1;33m)\u001b[0m\u001b[1;33m:\u001b[0m\u001b[1;33m\u001b[0m\u001b[1;33m\u001b[0m\u001b[0m\n\u001b[1;32m---> 14\u001b[1;33m         \u001b[1;32mreturn\u001b[0m \u001b[0mself\u001b[0m\u001b[1;33m.\u001b[0m\u001b[0m__calcular_impuesto\u001b[0m\u001b[1;33m(\u001b[0m\u001b[1;33m)\u001b[0m\u001b[1;33m\u001b[0m\u001b[1;33m\u001b[0m\u001b[0m\n\u001b[0m\u001b[0;32m     15\u001b[0m \u001b[1;33m\u001b[0m\u001b[0m\n\u001b[0;32m     16\u001b[0m     \u001b[1;32mdef\u001b[0m \u001b[0m__calcular_impuesto\u001b[0m\u001b[1;33m(\u001b[0m\u001b[1;33m)\u001b[0m\u001b[1;33m:\u001b[0m\u001b[1;33m\u001b[0m\u001b[1;33m\u001b[0m\u001b[0m\n",
      "\u001b[1;31mTypeError\u001b[0m: __calcular_impuesto() takes 0 positional arguments but 1 was given"
     ]
    }
   ],
   "source": [
    "class Auto:\n",
    "    color = \"rojo\" #None\n",
    "    __numero_chasis = 1 #Privado\n",
    "        \n",
    "    def __init__(self, color): #self = this\n",
    "        print(\"Empezó el constructor\")\n",
    "        #print(self.color)\n",
    "        self.color=color\n",
    "    \n",
    "    def __str__(self):\n",
    "        return f\"Color: {self.color}\\nChasis: {self.__numero_chasis}\"\n",
    "    \n",
    "    def numero_chasis_impuesto(self):\n",
    "        return self.__calcular_impuesto()\n",
    "        \n",
    "    def __calcular_impuesto():\n",
    "        return 14*self.__numero_chasis\n",
    "        \n",
    "nuevo_auto = Auto(\"amazul\")\n",
    "#print(nuevo_auto.color)\n",
    "#print(nuevo_auto._Auto__numero_chasis)\n",
    "print(nuevo_auto.numero_chasis_impuesto())"
   ]
  },
  {
   "cell_type": "code",
   "execution_count": null,
   "metadata": {},
   "outputs": [],
   "source": []
  },
  {
   "cell_type": "code",
   "execution_count": 51,
   "metadata": {},
   "outputs": [],
   "source": [
    "class BMW(Auto):\n",
    "    def __init__(self, color=\"Blanco\"):\n",
    "        print(\"Inicializando BMW\")\n",
    "        super().__init__(color)\n",
    "        \n",
    "    def __str__(self):\n",
    "        return f\"{super().__str__()}\""
   ]
  },
  {
   "cell_type": "code",
   "execution_count": 52,
   "metadata": {},
   "outputs": [
    {
     "name": "stdout",
     "output_type": "stream",
     "text": [
      "Inicializando BMW\n",
      "Empezó el constructor\n",
      "Color: Blanco\n",
      "Chasis: 1\n"
     ]
    }
   ],
   "source": [
    "carrito = BMW()\n",
    "print(carrito)"
   ]
  },
  {
   "cell_type": "code",
   "execution_count": 60,
   "metadata": {},
   "outputs": [
    {
     "data": {
      "text/plain": [
       "3"
      ]
     },
     "execution_count": 60,
     "metadata": {},
     "output_type": "execute_result"
    }
   ],
   "source": [
    "#Funciones dentro de Funciones\n",
    "def calculadora(num_uno, num_dos, operacion = \"suma\"):\n",
    "    def suma():\n",
    "        return num_uno+num_dos\n",
    "    def resta():\n",
    "        return num_uno-num_dos\n",
    "    def multiplicacion():\n",
    "        return num_uno*num_dos\n",
    "    def division():\n",
    "        return num_uno/num_dos\n",
    "    def opcion_seleccionada():\n",
    "        \"\"\"\n",
    "        return {\n",
    "            'suma': suma(),\n",
    "            'resta': resta(),\n",
    "            'multiplicacion': multiplicacion(),\n",
    "            'division': division(),\n",
    "        }[operacion]\n",
    "        \n",
    "        \"\"\"\n",
    "        opciones = {\n",
    "            'suma': suma(),\n",
    "            'resta': resta(),\n",
    "            'multiplicacion': multiplicacion(),\n",
    "            'division': division(),\n",
    "        }\n",
    "        return opciones[operacion]\n",
    "    return opcion_seleccionada()\n",
    "calculadora(1,2)"
   ]
  }
 ],
 "metadata": {
  "kernelspec": {
   "display_name": "Python 3",
   "language": "python",
   "name": "python3"
  },
  "language_info": {
   "codemirror_mode": {
    "name": "ipython",
    "version": 3
   },
   "file_extension": ".py",
   "mimetype": "text/x-python",
   "name": "python",
   "nbconvert_exporter": "python",
   "pygments_lexer": "ipython3",
   "version": "3.7.3"
  }
 },
 "nbformat": 4,
 "nbformat_minor": 2
}
