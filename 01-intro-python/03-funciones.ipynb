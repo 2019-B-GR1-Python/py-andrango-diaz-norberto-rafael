{
 "cells": [
  {
   "cell_type": "code",
   "execution_count": 2,
   "metadata": {},
   "outputs": [
    {
     "name": "stdout",
     "output_type": "stream",
     "text": [
      "Hola rafa\n"
     ]
    },
    {
     "data": {
      "text/plain": [
       "NoneType"
      ]
     },
     "execution_count": 2,
     "metadata": {},
     "output_type": "execute_result"
    }
   ],
   "source": [
    "def hola_mundo():\n",
    "    print (\"Hola rafa\")\n",
    "hola_mundo()\n",
    "type(hola_mundo())"
   ]
  },
  {
   "cell_type": "code",
   "execution_count": 7,
   "metadata": {},
   "outputs": [
    {
     "name": "stdout",
     "output_type": "stream",
     "text": [
      "suma 3\n"
     ]
    }
   ],
   "source": [
    "def sumar_dos_numeros (num_uno, num_dos): #Argumentos requeridos\n",
    "    return num_uno + num_dos\n",
    "suma=sumar_dos_numeros(1,2)\n",
    "print(f\"suma {suma}\")"
   ]
  },
  {
   "cell_type": "code",
   "execution_count": 12,
   "metadata": {},
   "outputs": [
    {
     "name": "stdout",
     "output_type": "stream",
     "text": [
      "KALSDJ\n"
     ]
    }
   ],
   "source": [
    "def imprimir_universidad(nombre = 'EPN'):\n",
    "    print(f\"{nombre}\")\n",
    "imprimir_universidad('KALSDJ')"
   ]
  },
  {
   "cell_type": "code",
   "execution_count": 17,
   "metadata": {},
   "outputs": [
    {
     "name": "stdout",
     "output_type": "stream",
     "text": [
      "Color:Blanco\n",
      "Placa:def-898\n",
      "Horse power:1566\n",
      "Año:2005\n"
     ]
    }
   ],
   "source": [
    "def imprimir_carro (color, placa, hp, anio):\n",
    "    print(f\"Color:{color}\")\n",
    "    print(f\"Placa:{placa}\")\n",
    "    print(f\"Horse power:{hp}\")\n",
    "    print(f\"Año:{anio}\")\n",
    "#imprimir_carro (\"Blanco\", \"abc-123\", 2000, 1980)\n",
    "#imprimir_carro (anio = 2005, color=\"Amazul\", placa=\"def-153\", hp=3500) #Named Parameters\n",
    "imprimir_carro(\"Blanco\", \"def-898\", anio=2005, hp=1566)"
   ]
  },
  {
   "cell_type": "code",
   "execution_count": 29,
   "metadata": {},
   "outputs": [
    {
     "data": {
      "text/plain": [
       "11"
      ]
     },
     "execution_count": 29,
     "metadata": {},
     "output_type": "execute_result"
    }
   ],
   "source": [
    "def sumar_numeros (primer_numero,*numeros):\n",
    "    longitud=len(numeros)\n",
    "    suma=primer_numero\n",
    "    for numero in numeros:\n",
    "        suma = suma + numero\n",
    "    return suma\n",
    "\n",
    "\n",
    "    \n",
    "sumar_numeros(1,2,3,5)"
   ]
  },
  {
   "cell_type": "code",
   "execution_count": 34,
   "metadata": {},
   "outputs": [
    {
     "name": "stdout",
     "output_type": "stream",
     "text": [
      "{'tiempo_espera': 10, 'segundos_espera': 11, 'minutos_espera': 12, 'horas_espera': 13}\n"
     ]
    }
   ],
   "source": [
    "def imprimir_configuracion(nombre, valor = 10, *valores_carga, **key_word_arguments):\n",
    "    print(key_word_arguments)\n",
    "    \n",
    "imprimir_configuracion(\"config\",20,30,40,50, tiempo_espera=10,segundos_espera=11, minutos_espera=12, horas_espera=13 )\n",
    "    "
   ]
  }
 ],
 "metadata": {
  "kernelspec": {
   "display_name": "Python 3",
   "language": "python",
   "name": "python3"
  },
  "language_info": {
   "codemirror_mode": {
    "name": "ipython",
    "version": 3
   },
   "file_extension": ".py",
   "mimetype": "text/x-python",
   "name": "python",
   "nbconvert_exporter": "python",
   "pygments_lexer": "ipython3",
   "version": "3.7.3"
  }
 },
 "nbformat": 4,
 "nbformat_minor": 2
}
